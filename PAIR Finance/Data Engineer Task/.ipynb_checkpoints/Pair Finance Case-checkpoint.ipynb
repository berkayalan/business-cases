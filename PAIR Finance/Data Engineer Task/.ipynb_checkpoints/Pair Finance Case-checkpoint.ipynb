{
 "cells": [
  {
   "cell_type": "markdown",
   "metadata": {},
   "source": [
    "**Pair Finance Case**\n",
    "\n",
    "***\n",
    "\n",
    "14 May 2023\n",
    "\n",
    "***\n",
    "\n",
    "**Created by Berkay Alan**\n",
    "\n",
    "*berkayalanpro@gmail.com*"
   ]
  },
  {
   "cell_type": "markdown",
   "metadata": {},
   "source": [
    "## Importing Libraries"
   ]
  },
  {
   "cell_type": "code",
   "execution_count": 4,
   "metadata": {},
   "outputs": [],
   "source": [
    "import requests\n",
    "import json\n",
    "import pandas as pd\n",
    "import numpy as np\n",
    "import matplotlib.pyplot as plt\n",
    "import matplotlib.image as mping\n",
    "from matplotlib.colors import ListedColormap\n",
    "import seaborn as sns\n",
    "import time\n",
    "from faker import Faker\n",
    "from joblib import dump, load\n",
    "import re\n",
    "import mysql.connector\n",
    "from time import time\n",
    "from datetime import datetime, timedelta\n",
    "from tqdm import tqdm\n",
    "import psycopg2\n",
    "from configparser import ConfigParser"
   ]
  },
  {
   "cell_type": "code",
   "execution_count": 5,
   "metadata": {},
   "outputs": [],
   "source": [
    "pd.set_option('display.max_rows', 1000)\n",
    "pd.set_option('display.max_columns', 1000)\n",
    "pd.set_option('display.width', 1000)"
   ]
  },
  {
   "cell_type": "markdown",
   "metadata": {},
   "source": [
    "## Resources"
   ]
  },
  {
   "cell_type": "markdown",
   "metadata": {},
   "source": [
    "- [Connect To PostgreSQL Database Server](https://www.postgresqltutorial.com/postgresql-python/connect/)\n",
    "- [Python PostgreSQL - Select Data](https://www.tutorialspoint.com/python_data_access/python_postgresql_select_data.htm)"
   ]
  },
  {
   "cell_type": "markdown",
   "metadata": {},
   "source": [
    "## Connect to PostgreSQL"
   ]
  },
  {
   "cell_type": "code",
   "execution_count": 3,
   "metadata": {},
   "outputs": [],
   "source": [
    "conn = psycopg2.connect(\n",
    "       host=\"localhost\",\n",
    "       database=\"main\",\n",
    "       port =\"5432\", \n",
    "       user=\"postgres\",\n",
    "       password=\"password\")"
   ]
  },
  {
   "cell_type": "code",
   "execution_count": 4,
   "metadata": {},
   "outputs": [],
   "source": [
    "#Setting auto commit false\n",
    "conn.autocommit = True"
   ]
  },
  {
   "cell_type": "code",
   "execution_count": 5,
   "metadata": {},
   "outputs": [],
   "source": [
    "#Creating a cursor object using the cursor() method\n",
    "cursor = conn.cursor()"
   ]
  },
  {
   "cell_type": "code",
   "execution_count": 6,
   "metadata": {},
   "outputs": [],
   "source": [
    "#Commit your changes in the database\n",
    "#conn.commit()"
   ]
  },
  {
   "cell_type": "code",
   "execution_count": 7,
   "metadata": {},
   "outputs": [],
   "source": [
    "#Closing the connection\n",
    "#conn.close()"
   ]
  },
  {
   "cell_type": "markdown",
   "metadata": {
    "heading_collapsed": true
   },
   "source": [
    "## Funtions"
   ]
  },
  {
   "cell_type": "code",
   "execution_count": 7,
   "metadata": {
    "hidden": true
   },
   "outputs": [],
   "source": [
    "def label_encoder(dataframe,column):\n",
    "    le = preprocessing.LabelEncoder()\n",
    "    dataframe[column] = le.fit_transform(list(dataframe[column].values))\n",
    "    return dataframe[column]"
   ]
  },
  {
   "cell_type": "code",
   "execution_count": 8,
   "metadata": {
    "hidden": true
   },
   "outputs": [],
   "source": [
    "def one_hot_encoder(dataframe,column):\n",
    "    return pd.get_dummies(dataframe, columns = column)"
   ]
  },
  {
   "cell_type": "code",
   "execution_count": 9,
   "metadata": {
    "hidden": true
   },
   "outputs": [],
   "source": [
    "def create_pandas_table(sql_query, database = conn):\n",
    "    table = pd.read_sql_query(sql_query, database)\n",
    "    return table"
   ]
  },
  {
   "cell_type": "markdown",
   "metadata": {},
   "source": [
    "## Connecting Postgresql Table"
   ]
  },
  {
   "cell_type": "code",
   "execution_count": 24,
   "metadata": {},
   "outputs": [
    {
     "name": "stderr",
     "output_type": "stream",
     "text": [
      "/Users/berkayalan/opt/anaconda3/lib/python3.9/site-packages/pandas/io/sql.py:761: UserWarning: pandas only support SQLAlchemy connectable(engine/connection) ordatabase string URI or sqlite3 DBAPI2 connectionother DBAPI2 objects are not tested, please consider using SQLAlchemy\n",
      "  warnings.warn(\n"
     ]
    },
    {
     "data": {
      "text/html": [
       "<div>\n",
       "<style scoped>\n",
       "    .dataframe tbody tr th:only-of-type {\n",
       "        vertical-align: middle;\n",
       "    }\n",
       "\n",
       "    .dataframe tbody tr th {\n",
       "        vertical-align: top;\n",
       "    }\n",
       "\n",
       "    .dataframe thead th {\n",
       "        text-align: right;\n",
       "    }\n",
       "</style>\n",
       "<table border=\"1\" class=\"dataframe\">\n",
       "  <thead>\n",
       "    <tr style=\"text-align: right;\">\n",
       "      <th></th>\n",
       "      <th>device_id</th>\n",
       "      <th>temperature</th>\n",
       "      <th>location</th>\n",
       "      <th>time</th>\n",
       "    </tr>\n",
       "  </thead>\n",
       "  <tbody>\n",
       "  </tbody>\n",
       "</table>\n",
       "</div>"
      ],
      "text/plain": [
       "Empty DataFrame\n",
       "Columns: [device_id, temperature, location, time]\n",
       "Index: []"
      ]
     },
     "execution_count": 24,
     "metadata": {},
     "output_type": "execute_result"
    }
   ],
   "source": [
    "#Retrieving data\n",
    "cost_sql= \"SELECT * FROM devices\"\n",
    "cost = create_pandas_table(cost_sql)\n",
    "cost.head()"
   ]
  },
  {
   "cell_type": "code",
   "execution_count": 23,
   "metadata": {},
   "outputs": [
    {
     "ename": "AttributeError",
     "evalue": "'psycopg2.extensions.connection' object has no attribute 'execute'",
     "output_type": "error",
     "traceback": [
      "\u001B[0;31m---------------------------------------------------------------------------\u001B[0m",
      "\u001B[0;31mAttributeError\u001B[0m                            Traceback (most recent call last)",
      "Input \u001B[0;32mIn [23]\u001B[0m, in \u001B[0;36m<cell line: 3>\u001B[0;34m()\u001B[0m\n\u001B[1;32m      2\u001B[0m \u001B[38;5;28;01mwhile\u001B[39;00m \u001B[38;5;28;01mTrue\u001B[39;00m:\n\u001B[1;32m      3\u001B[0m     data \u001B[38;5;241m=\u001B[39m \u001B[38;5;28mdict\u001B[39m(\n\u001B[1;32m      4\u001B[0m          device_id\u001B[38;5;241m=\u001B[39m\u001B[38;5;124m\"\u001B[39m\u001B[38;5;124mA\u001B[39m\u001B[38;5;124m\"\u001B[39m,\n\u001B[1;32m      5\u001B[0m          temperature\u001B[38;5;241m=\u001B[39mfaker\u001B[38;5;241m.\u001B[39mrandom_int(\u001B[38;5;241m10\u001B[39m, \u001B[38;5;241m50\u001B[39m),\n\u001B[1;32m      6\u001B[0m          location\u001B[38;5;241m=\u001B[39mjson\u001B[38;5;241m.\u001B[39mdumps(\u001B[38;5;28mdict\u001B[39m(latitude\u001B[38;5;241m=\u001B[39m\u001B[38;5;28mstr\u001B[39m(faker\u001B[38;5;241m.\u001B[39mlatitude()), longitude\u001B[38;5;241m=\u001B[39m\u001B[38;5;28mstr\u001B[39m(faker\u001B[38;5;241m.\u001B[39mlongitude()))),\n\u001B[1;32m      7\u001B[0m          time\u001B[38;5;241m=\u001B[39m\u001B[38;5;28mstr\u001B[39m(\u001B[38;5;28mint\u001B[39m(time()))\n\u001B[1;32m      8\u001B[0m      )\n\u001B[0;32m----> 9\u001B[0m     conn\u001B[38;5;241m.\u001B[39mexecute(ins, data)\n\u001B[1;32m     10\u001B[0m     \u001B[38;5;28mprint\u001B[39m(\u001B[38;5;124m\"\u001B[39m\u001B[38;5;124mA\u001B[39m\u001B[38;5;124m\"\u001B[39m, data[\u001B[38;5;124m'\u001B[39m\u001B[38;5;124mtime\u001B[39m\u001B[38;5;124m'\u001B[39m])\n\u001B[1;32m     11\u001B[0m     \u001B[38;5;28;01mawait\u001B[39;00m asyncio\u001B[38;5;241m.\u001B[39msleep(\u001B[38;5;241m1.0\u001B[39m)\n",
      "\u001B[0;31mAttributeError\u001B[0m: 'psycopg2.extensions.connection' object has no attribute 'execute'"
     ]
    }
   ],
   "source": [
    "faker = Faker()\n",
    "while True:\n",
    "    data = dict(\n",
    "         device_id=\"A\",\n",
    "         temperature=faker.random_int(10, 50),\n",
    "         location=json.dumps(dict(latitude=str(faker.latitude()), longitude=str(faker.longitude()))),\n",
    "         time=str(int(time()))\n",
    "     )\n",
    "    conn.execute(ins, data)\n",
    "    print(\"A\", data['time'])\n",
    "    await asyncio.sleep(1.0)"
   ]
  },
  {
   "cell_type": "code",
   "execution_count": null,
   "metadata": {},
   "outputs": [],
   "source": []
  },
  {
   "cell_type": "markdown",
   "metadata": {},
   "source": [
    "## Connecting Mysql"
   ]
  },
  {
   "cell_type": "code",
   "execution_count": 11,
   "metadata": {},
   "outputs": [
    {
     "ename": "InterfaceError",
     "evalue": "2003: Can't connect to MySQL server on '78.161.149.185:3306' (61 Connection refused)",
     "output_type": "error",
     "traceback": [
      "\u001B[0;31m---------------------------------------------------------------------------\u001B[0m",
      "\u001B[0;31mConnectionRefusedError\u001B[0m                    Traceback (most recent call last)",
      "File \u001B[0;32m~/opt/anaconda3/lib/python3.9/site-packages/mysql/connector/network.py:600\u001B[0m, in \u001B[0;36mMySQLTCPSocket.open_connection\u001B[0;34m(self)\u001B[0m\n\u001B[1;32m    599\u001B[0m     \u001B[38;5;28mself\u001B[39m\u001B[38;5;241m.\u001B[39msock\u001B[38;5;241m.\u001B[39msettimeout(\u001B[38;5;28mself\u001B[39m\u001B[38;5;241m.\u001B[39m_connection_timeout)\n\u001B[0;32m--> 600\u001B[0m     \u001B[38;5;28;43mself\u001B[39;49m\u001B[38;5;241;43m.\u001B[39;49m\u001B[43msock\u001B[49m\u001B[38;5;241;43m.\u001B[39;49m\u001B[43mconnect\u001B[49m\u001B[43m(\u001B[49m\u001B[43msockaddr\u001B[49m\u001B[43m)\u001B[49m\n\u001B[1;32m    601\u001B[0m \u001B[38;5;28;01mexcept\u001B[39;00m \u001B[38;5;167;01mIOError\u001B[39;00m \u001B[38;5;28;01mas\u001B[39;00m err:\n",
      "\u001B[0;31mConnectionRefusedError\u001B[0m: [Errno 61] Connection refused",
      "\nThe above exception was the direct cause of the following exception:\n",
      "\u001B[0;31mInterfaceError\u001B[0m                            Traceback (most recent call last)",
      "Input \u001B[0;32mIn [11]\u001B[0m, in \u001B[0;36m<cell line: 2>\u001B[0;34m()\u001B[0m\n\u001B[1;32m      1\u001B[0m \u001B[38;5;66;03m# Connecting from the server\u001B[39;00m\n\u001B[0;32m----> 2\u001B[0m mysql_conn \u001B[38;5;241m=\u001B[39m \u001B[43mmysql\u001B[49m\u001B[38;5;241;43m.\u001B[39;49m\u001B[43mconnector\u001B[49m\u001B[38;5;241;43m.\u001B[39;49m\u001B[43mconnect\u001B[49m\u001B[43m(\u001B[49m\u001B[43muser\u001B[49m\u001B[43m \u001B[49m\u001B[38;5;241;43m=\u001B[39;49m\u001B[43m \u001B[49m\u001B[38;5;124;43m'\u001B[39;49m\u001B[38;5;124;43mnonroot\u001B[39;49m\u001B[38;5;124;43m'\u001B[39;49m\u001B[43m,\u001B[49m\n\u001B[1;32m      3\u001B[0m \u001B[43m                               \u001B[49m\u001B[43mhost\u001B[49m\u001B[43m \u001B[49m\u001B[38;5;241;43m=\u001B[39;49m\u001B[43m \u001B[49m\u001B[38;5;124;43m'\u001B[39;49m\u001B[38;5;124;43m78.161.149.185\u001B[39;49m\u001B[38;5;124;43m'\u001B[39;49m\u001B[43m,\u001B[49m\n\u001B[1;32m      4\u001B[0m \u001B[43m                              \u001B[49m\u001B[43mdatabase\u001B[49m\u001B[43m \u001B[49m\u001B[38;5;241;43m=\u001B[39;49m\u001B[43m \u001B[49m\u001B[38;5;124;43m'\u001B[39;49m\u001B[38;5;124;43manalytics\u001B[39;49m\u001B[38;5;124;43m'\u001B[39;49m\u001B[43m,\u001B[49m\n\u001B[1;32m      5\u001B[0m \u001B[43m                               \u001B[49m\u001B[43mpassword\u001B[49m\u001B[43m \u001B[49m\u001B[38;5;241;43m=\u001B[39;49m\u001B[43m \u001B[49m\u001B[38;5;124;43m\"\u001B[39;49m\u001B[38;5;124;43mnonroot\u001B[39;49m\u001B[38;5;124;43m\"\u001B[39;49m\u001B[43m,\u001B[49m\n\u001B[1;32m      6\u001B[0m \u001B[43m                               \u001B[49m\u001B[43mport\u001B[49m\u001B[43m \u001B[49m\u001B[38;5;241;43m=\u001B[39;49m\u001B[43m \u001B[49m\u001B[38;5;124;43m\"\u001B[39;49m\u001B[38;5;124;43m3306\u001B[39;49m\u001B[38;5;124;43m\"\u001B[39;49m\u001B[43m \u001B[49m\u001B[43m)\u001B[49m\n\u001B[1;32m      8\u001B[0m \u001B[38;5;28mprint\u001B[39m(mysql_conn)\n",
      "File \u001B[0;32m~/opt/anaconda3/lib/python3.9/site-packages/mysql/connector/pooling.py:294\u001B[0m, in \u001B[0;36mconnect\u001B[0;34m(*args, **kwargs)\u001B[0m\n\u001B[1;32m    292\u001B[0m \u001B[38;5;28;01mif\u001B[39;00m CMySQLConnection \u001B[38;5;129;01mand\u001B[39;00m \u001B[38;5;129;01mnot\u001B[39;00m use_pure:\n\u001B[1;32m    293\u001B[0m     \u001B[38;5;28;01mreturn\u001B[39;00m CMySQLConnection(\u001B[38;5;241m*\u001B[39margs, \u001B[38;5;241m*\u001B[39m\u001B[38;5;241m*\u001B[39mkwargs)\n\u001B[0;32m--> 294\u001B[0m \u001B[38;5;28;01mreturn\u001B[39;00m \u001B[43mMySQLConnection\u001B[49m\u001B[43m(\u001B[49m\u001B[38;5;241;43m*\u001B[39;49m\u001B[43margs\u001B[49m\u001B[43m,\u001B[49m\u001B[43m \u001B[49m\u001B[38;5;241;43m*\u001B[39;49m\u001B[38;5;241;43m*\u001B[39;49m\u001B[43mkwargs\u001B[49m\u001B[43m)\u001B[49m\n",
      "File \u001B[0;32m~/opt/anaconda3/lib/python3.9/site-packages/mysql/connector/connection.py:164\u001B[0m, in \u001B[0;36mMySQLConnection.__init__\u001B[0;34m(self, **kwargs)\u001B[0m\n\u001B[1;32m    162\u001B[0m \u001B[38;5;28;01mif\u001B[39;00m kwargs:\n\u001B[1;32m    163\u001B[0m     \u001B[38;5;28;01mtry\u001B[39;00m:\n\u001B[0;32m--> 164\u001B[0m         \u001B[38;5;28;43mself\u001B[39;49m\u001B[38;5;241;43m.\u001B[39;49m\u001B[43mconnect\u001B[49m\u001B[43m(\u001B[49m\u001B[38;5;241;43m*\u001B[39;49m\u001B[38;5;241;43m*\u001B[39;49m\u001B[43mkwargs\u001B[49m\u001B[43m)\u001B[49m\n\u001B[1;32m    165\u001B[0m     \u001B[38;5;28;01mexcept\u001B[39;00m \u001B[38;5;167;01mException\u001B[39;00m:\n\u001B[1;32m    166\u001B[0m         \u001B[38;5;66;03m# Tidy-up underlying socket on failure\u001B[39;00m\n\u001B[1;32m    167\u001B[0m         \u001B[38;5;28mself\u001B[39m\u001B[38;5;241m.\u001B[39mclose()\n",
      "File \u001B[0;32m~/opt/anaconda3/lib/python3.9/site-packages/mysql/connector/abstracts.py:1181\u001B[0m, in \u001B[0;36mMySQLConnectionAbstract.connect\u001B[0;34m(self, **kwargs)\u001B[0m\n\u001B[1;32m   1178\u001B[0m     \u001B[38;5;28mself\u001B[39m\u001B[38;5;241m.\u001B[39mconfig(\u001B[38;5;241m*\u001B[39m\u001B[38;5;241m*\u001B[39mkwargs)\n\u001B[1;32m   1180\u001B[0m \u001B[38;5;28mself\u001B[39m\u001B[38;5;241m.\u001B[39mdisconnect()\n\u001B[0;32m-> 1181\u001B[0m \u001B[38;5;28;43mself\u001B[39;49m\u001B[38;5;241;43m.\u001B[39;49m\u001B[43m_open_connection\u001B[49m\u001B[43m(\u001B[49m\u001B[43m)\u001B[49m\n\u001B[1;32m   1182\u001B[0m \u001B[38;5;66;03m# Server does not allow to run any other statement different from ALTER\u001B[39;00m\n\u001B[1;32m   1183\u001B[0m \u001B[38;5;66;03m# when user's password has been expired.\u001B[39;00m\n\u001B[1;32m   1184\u001B[0m \u001B[38;5;28;01mif\u001B[39;00m \u001B[38;5;129;01mnot\u001B[39;00m \u001B[38;5;28mself\u001B[39m\u001B[38;5;241m.\u001B[39m_client_flags \u001B[38;5;241m&\u001B[39m ClientFlag\u001B[38;5;241m.\u001B[39mCAN_HANDLE_EXPIRED_PASSWORDS:\n",
      "File \u001B[0;32m~/opt/anaconda3/lib/python3.9/site-packages/mysql/connector/connection.py:570\u001B[0m, in \u001B[0;36mMySQLConnection._open_connection\u001B[0;34m(self)\u001B[0m\n\u001B[1;32m    568\u001B[0m \u001B[38;5;28mself\u001B[39m\u001B[38;5;241m.\u001B[39m_socket \u001B[38;5;241m=\u001B[39m \u001B[38;5;28mself\u001B[39m\u001B[38;5;241m.\u001B[39m_get_connection()\n\u001B[1;32m    569\u001B[0m \u001B[38;5;28;01mtry\u001B[39;00m:\n\u001B[0;32m--> 570\u001B[0m     \u001B[38;5;28;43mself\u001B[39;49m\u001B[38;5;241;43m.\u001B[39;49m\u001B[43m_socket\u001B[49m\u001B[38;5;241;43m.\u001B[39;49m\u001B[43mopen_connection\u001B[49m\u001B[43m(\u001B[49m\u001B[43m)\u001B[49m\n\u001B[1;32m    571\u001B[0m     \u001B[38;5;28mself\u001B[39m\u001B[38;5;241m.\u001B[39m_do_handshake()\n\u001B[1;32m    572\u001B[0m     \u001B[38;5;28mself\u001B[39m\u001B[38;5;241m.\u001B[39m_do_auth(\n\u001B[1;32m    573\u001B[0m         \u001B[38;5;28mself\u001B[39m\u001B[38;5;241m.\u001B[39m_user,\n\u001B[1;32m    574\u001B[0m         \u001B[38;5;28mself\u001B[39m\u001B[38;5;241m.\u001B[39m_password,\n\u001B[0;32m   (...)\u001B[0m\n\u001B[1;32m    579\u001B[0m         \u001B[38;5;28mself\u001B[39m\u001B[38;5;241m.\u001B[39m_conn_attrs,\n\u001B[1;32m    580\u001B[0m     )\n",
      "File \u001B[0;32m~/opt/anaconda3/lib/python3.9/site-packages/mysql/connector/network.py:602\u001B[0m, in \u001B[0;36mMySQLTCPSocket.open_connection\u001B[0;34m(self)\u001B[0m\n\u001B[1;32m    600\u001B[0m     \u001B[38;5;28mself\u001B[39m\u001B[38;5;241m.\u001B[39msock\u001B[38;5;241m.\u001B[39mconnect(sockaddr)\n\u001B[1;32m    601\u001B[0m \u001B[38;5;28;01mexcept\u001B[39;00m \u001B[38;5;167;01mIOError\u001B[39;00m \u001B[38;5;28;01mas\u001B[39;00m err:\n\u001B[0;32m--> 602\u001B[0m     \u001B[38;5;28;01mraise\u001B[39;00m InterfaceError(\n\u001B[1;32m    603\u001B[0m         errno\u001B[38;5;241m=\u001B[39m\u001B[38;5;241m2003\u001B[39m,\n\u001B[1;32m    604\u001B[0m         values\u001B[38;5;241m=\u001B[39m(\n\u001B[1;32m    605\u001B[0m             \u001B[38;5;28mself\u001B[39m\u001B[38;5;241m.\u001B[39mserver_host,\n\u001B[1;32m    606\u001B[0m             \u001B[38;5;28mself\u001B[39m\u001B[38;5;241m.\u001B[39mserver_port,\n\u001B[1;32m    607\u001B[0m             _strioerror(err),\n\u001B[1;32m    608\u001B[0m         ),\n\u001B[1;32m    609\u001B[0m     ) \u001B[38;5;28;01mfrom\u001B[39;00m \u001B[38;5;21;01merr\u001B[39;00m\n\u001B[1;32m    610\u001B[0m \u001B[38;5;28;01mexcept\u001B[39;00m \u001B[38;5;167;01mException\u001B[39;00m \u001B[38;5;28;01mas\u001B[39;00m err:\n\u001B[1;32m    611\u001B[0m     \u001B[38;5;28;01mraise\u001B[39;00m OperationalError(\u001B[38;5;28mstr\u001B[39m(err)) \u001B[38;5;28;01mfrom\u001B[39;00m \u001B[38;5;21;01merr\u001B[39;00m\n",
      "\u001B[0;31mInterfaceError\u001B[0m: 2003: Can't connect to MySQL server on '78.161.149.185:3306' (61 Connection refused)"
     ]
    }
   ],
   "source": [
    "# Connecting from the server\n",
    "mysql_conn = mysql.connector.connect(user = 'nonroot',\n",
    "                               host = 'localhost',\n",
    "                              database = 'analytics',\n",
    "                               password = \"nonroot\",\n",
    "                               port = \"3306\" )\n",
    " \n",
    "print(mysql_conn)\n",
    " \n",
    "# Disconnecting from the server\n",
    "#conn.close()"
   ]
  },
  {
   "cell_type": "code",
   "execution_count": 36,
   "metadata": {},
   "outputs": [
    {
     "data": {
      "text/html": [
       "<div>\n",
       "<style scoped>\n",
       "    .dataframe tbody tr th:only-of-type {\n",
       "        vertical-align: middle;\n",
       "    }\n",
       "\n",
       "    .dataframe tbody tr th {\n",
       "        vertical-align: top;\n",
       "    }\n",
       "\n",
       "    .dataframe thead th {\n",
       "        text-align: right;\n",
       "    }\n",
       "</style>\n",
       "<table border=\"1\" class=\"dataframe\">\n",
       "  <thead>\n",
       "    <tr style=\"text-align: right;\">\n",
       "      <th></th>\n",
       "      <th>uid</th>\n",
       "      <th>platform</th>\n",
       "      <th>event_timestamp</th>\n",
       "      <th>dt</th>\n",
       "      <th>s_index</th>\n",
       "      <th>app_version</th>\n",
       "    </tr>\n",
       "  </thead>\n",
       "  <tbody>\n",
       "    <tr>\n",
       "      <th>0</th>\n",
       "      <td>1</td>\n",
       "      <td>android</td>\n",
       "      <td>1567507780</td>\n",
       "      <td>2019-09-03</td>\n",
       "      <td>1</td>\n",
       "      <td>0.12.0</td>\n",
       "    </tr>\n",
       "    <tr>\n",
       "      <th>1</th>\n",
       "      <td>1</td>\n",
       "      <td>android</td>\n",
       "      <td>1567510863</td>\n",
       "      <td>2019-09-03</td>\n",
       "      <td>2</td>\n",
       "      <td>0.12.0</td>\n",
       "    </tr>\n",
       "    <tr>\n",
       "      <th>2</th>\n",
       "      <td>1</td>\n",
       "      <td>android</td>\n",
       "      <td>1567521293</td>\n",
       "      <td>2019-09-03</td>\n",
       "      <td>3</td>\n",
       "      <td>0.12.0</td>\n",
       "    </tr>\n",
       "    <tr>\n",
       "      <th>3</th>\n",
       "      <td>1</td>\n",
       "      <td>android</td>\n",
       "      <td>1567623303</td>\n",
       "      <td>2019-09-04</td>\n",
       "      <td>4</td>\n",
       "      <td>0.12.0</td>\n",
       "    </tr>\n",
       "    <tr>\n",
       "      <th>4</th>\n",
       "      <td>1</td>\n",
       "      <td>android</td>\n",
       "      <td>1567685673</td>\n",
       "      <td>2019-09-05</td>\n",
       "      <td>5</td>\n",
       "      <td>0.12.0</td>\n",
       "    </tr>\n",
       "  </tbody>\n",
       "</table>\n",
       "</div>"
      ],
      "text/plain": [
       "   uid platform  event_timestamp          dt  s_index app_version\n",
       "0    1  android       1567507780  2019-09-03        1      0.12.0\n",
       "1    1  android       1567510863  2019-09-03        2      0.12.0\n",
       "2    1  android       1567521293  2019-09-03        3      0.12.0\n",
       "3    1  android       1567623303  2019-09-04        4      0.12.0\n",
       "4    1  android       1567685673  2019-09-05        5      0.12.0"
      ]
     },
     "execution_count": 36,
     "metadata": {},
     "output_type": "execute_result"
    }
   ],
   "source": [
    "login_sql = \"SELECT * FROM public.dataset_sl_login order by uid,s_index,dt limit 2000\"\n",
    "login = create_pandas_table(login_sql)\n",
    "login_original = login.copy()\n",
    "login.head()"
   ]
  },
  {
   "cell_type": "code",
   "execution_count": 37,
   "metadata": {},
   "outputs": [
    {
     "data": {
      "text/html": [
       "<div>\n",
       "<style scoped>\n",
       "    .dataframe tbody tr th:only-of-type {\n",
       "        vertical-align: middle;\n",
       "    }\n",
       "\n",
       "    .dataframe tbody tr th {\n",
       "        vertical-align: top;\n",
       "    }\n",
       "\n",
       "    .dataframe thead th {\n",
       "        text-align: right;\n",
       "    }\n",
       "</style>\n",
       "<table border=\"1\" class=\"dataframe\">\n",
       "  <thead>\n",
       "    <tr style=\"text-align: right;\">\n",
       "      <th></th>\n",
       "      <th>uid</th>\n",
       "      <th>platform</th>\n",
       "      <th>total_session</th>\n",
       "      <th>first_login_date</th>\n",
       "      <th>last_login_date</th>\n",
       "    </tr>\n",
       "  </thead>\n",
       "  <tbody>\n",
       "    <tr>\n",
       "      <th>0</th>\n",
       "      <td>1</td>\n",
       "      <td>android</td>\n",
       "      <td>13</td>\n",
       "      <td>2019-09-03</td>\n",
       "      <td>2019-09-13</td>\n",
       "    </tr>\n",
       "    <tr>\n",
       "      <th>1</th>\n",
       "      <td>2</td>\n",
       "      <td>android</td>\n",
       "      <td>93</td>\n",
       "      <td>2019-08-10</td>\n",
       "      <td>2019-09-15</td>\n",
       "    </tr>\n",
       "    <tr>\n",
       "      <th>2</th>\n",
       "      <td>3</td>\n",
       "      <td>android</td>\n",
       "      <td>13</td>\n",
       "      <td>2019-08-27</td>\n",
       "      <td>2019-09-05</td>\n",
       "    </tr>\n",
       "    <tr>\n",
       "      <th>3</th>\n",
       "      <td>4</td>\n",
       "      <td>android</td>\n",
       "      <td>10</td>\n",
       "      <td>2019-08-29</td>\n",
       "      <td>2019-09-04</td>\n",
       "    </tr>\n",
       "    <tr>\n",
       "      <th>4</th>\n",
       "      <td>5</td>\n",
       "      <td>ios</td>\n",
       "      <td>1</td>\n",
       "      <td>2019-08-17</td>\n",
       "      <td>2019-08-17</td>\n",
       "    </tr>\n",
       "  </tbody>\n",
       "</table>\n",
       "</div>"
      ],
      "text/plain": [
       "   uid platform  total_session first_login_date last_login_date\n",
       "0    1  android             13       2019-09-03      2019-09-13\n",
       "1    2  android             93       2019-08-10      2019-09-15\n",
       "2    3  android             13       2019-08-27      2019-09-05\n",
       "3    4  android             10       2019-08-29      2019-09-04\n",
       "4    5      ios              1       2019-08-17      2019-08-17"
      ]
     },
     "execution_count": 37,
     "metadata": {},
     "output_type": "execute_result"
    }
   ],
   "source": [
    "user_login_sql = \"\"\"SELECT uid,\n",
    "                           platform, \n",
    "                           count(s_index) as total_session,\n",
    "                           min(dt) as first_login_date,\n",
    "                           max(dt) as last_login_date\n",
    "FROM public.dataset_sl_login \n",
    "group by 1,2\n",
    "order by 1,2\"\"\"\n",
    "\n",
    "user_login = create_pandas_table(user_login_sql)\n",
    "user_login.head()"
   ]
  },
  {
   "cell_type": "code",
   "execution_count": 38,
   "metadata": {},
   "outputs": [
    {
     "data": {
      "text/plain": [
       "(228269, 5)"
      ]
     },
     "execution_count": 38,
     "metadata": {},
     "output_type": "execute_result"
    }
   ],
   "source": [
    "user_login.shape"
   ]
  },
  {
   "cell_type": "markdown",
   "metadata": {},
   "source": [
    "Now let's look if there is any user who logged in to the app in different platforms."
   ]
  },
  {
   "cell_type": "code",
   "execution_count": 39,
   "metadata": {},
   "outputs": [
    {
     "data": {
      "text/html": [
       "<div>\n",
       "<style scoped>\n",
       "    .dataframe tbody tr th:only-of-type {\n",
       "        vertical-align: middle;\n",
       "    }\n",
       "\n",
       "    .dataframe tbody tr th {\n",
       "        vertical-align: top;\n",
       "    }\n",
       "\n",
       "    .dataframe thead th {\n",
       "        text-align: right;\n",
       "    }\n",
       "</style>\n",
       "<table border=\"1\" class=\"dataframe\">\n",
       "  <thead>\n",
       "    <tr style=\"text-align: right;\">\n",
       "      <th></th>\n",
       "      <th>platform</th>\n",
       "    </tr>\n",
       "    <tr>\n",
       "      <th>uid</th>\n",
       "      <th></th>\n",
       "    </tr>\n",
       "  </thead>\n",
       "  <tbody>\n",
       "    <tr>\n",
       "      <th>1</th>\n",
       "      <td>1</td>\n",
       "    </tr>\n",
       "    <tr>\n",
       "      <th>152411</th>\n",
       "      <td>1</td>\n",
       "    </tr>\n",
       "    <tr>\n",
       "      <th>152412</th>\n",
       "      <td>1</td>\n",
       "    </tr>\n",
       "    <tr>\n",
       "      <th>152413</th>\n",
       "      <td>1</td>\n",
       "    </tr>\n",
       "    <tr>\n",
       "      <th>152414</th>\n",
       "      <td>1</td>\n",
       "    </tr>\n",
       "    <tr>\n",
       "      <th>...</th>\n",
       "      <td>...</td>\n",
       "    </tr>\n",
       "    <tr>\n",
       "      <th>76213</th>\n",
       "      <td>1</td>\n",
       "    </tr>\n",
       "    <tr>\n",
       "      <th>76214</th>\n",
       "      <td>1</td>\n",
       "    </tr>\n",
       "    <tr>\n",
       "      <th>76215</th>\n",
       "      <td>1</td>\n",
       "    </tr>\n",
       "    <tr>\n",
       "      <th>76204</th>\n",
       "      <td>1</td>\n",
       "    </tr>\n",
       "    <tr>\n",
       "      <th>228635</th>\n",
       "      <td>1</td>\n",
       "    </tr>\n",
       "  </tbody>\n",
       "</table>\n",
       "<p>228269 rows × 1 columns</p>\n",
       "</div>"
      ],
      "text/plain": [
       "        platform\n",
       "uid             \n",
       "1              1\n",
       "152411         1\n",
       "152412         1\n",
       "152413         1\n",
       "152414         1\n",
       "...          ...\n",
       "76213          1\n",
       "76214          1\n",
       "76215          1\n",
       "76204          1\n",
       "228635         1\n",
       "\n",
       "[228269 rows x 1 columns]"
      ]
     },
     "execution_count": 39,
     "metadata": {},
     "output_type": "execute_result"
    }
   ],
   "source": [
    "pd.DataFrame(user_login.groupby(\"uid\").count()[\"platform\"]).sort_values(by=\"platform\")"
   ]
  },
  {
   "cell_type": "code",
   "execution_count": 40,
   "metadata": {},
   "outputs": [
    {
     "data": {
      "image/png": "[encoded data removed]",
      "text/plain": [
       "<Figure size 1224x504 with 1 Axes>"
      ]
     },
     "metadata": {
      "needs_background": "light"
     },
     "output_type": "display_data"
    }
   ],
   "source": [
    "#Let's see first logins\n",
    "\n",
    "fl = pd.DataFrame(user_login.groupby(\"first_login_date\").count()[\"uid\"])\n",
    "\n",
    "plt.figure(figsize=(17,7))\n",
    "\n",
    "plt.title(\"First Login Days\")\n",
    "\n",
    "plt.plot_date(fl.index, fl[\"uid\"],linestyle=\"solid\",marker = 'o',ms = 5, mfc = 'b',c=\"r\" )\n",
    "\n",
    "plt.xticks(fl.index, rotation='vertical',fontsize=12)\n",
    "plt.xlabel(\"Dates\")\n",
    "plt.ylabel(\"Login Numbers\")\n",
    "plt.grid(False)\n",
    "\n",
    "plt.show() "
   ]
  },
  {
   "cell_type": "code",
   "execution_count": 41,
   "metadata": {},
   "outputs": [
    {
     "data": {
      "image/png": "[encoded data removed]",
      "text/plain": [
       "<Figure size 1224x504 with 1 Axes>"
      ]
     },
     "metadata": {
      "needs_background": "light"
     },
     "output_type": "display_data"
    }
   ],
   "source": [
    "#Let's see last logins\n",
    "\n",
    "llog = pd.DataFrame(user_login.groupby(\"last_login_date\").count()[\"uid\"])\n",
    "\n",
    "plt.figure(figsize=(17,7))\n",
    "\n",
    "plt.title(\"Last Login Days\")\n",
    "\n",
    "plt.plot_date(llog.index, llog[\"uid\"],linestyle=\"solid\",marker = 'o',ms = 5, mfc = 'b',c=\"r\" )\n",
    "\n",
    "plt.xticks(llog.index, rotation='vertical',fontsize=12)\n",
    "plt.xlabel(\"Dates\")\n",
    "plt.ylabel(\"Login Numbers\")\n",
    "plt.grid(False)\n",
    "\n",
    "plt.show() "
   ]
  },
  {
   "cell_type": "code",
   "execution_count": 42,
   "metadata": {},
   "outputs": [
    {
     "name": "stdout",
     "output_type": "stream",
     "text": [
      "min    2019-07-31\n",
      "Name: 0, dtype: object\n",
      "max    2019-09-15\n",
      "Name: 0, dtype: object\n"
     ]
    }
   ],
   "source": [
    "# Get max and min date of login\n",
    "max_sql = \"SELECT MAX(dt) FROM public.dataset_sl_login\"\n",
    "min_sql = \"SELECT MIN(dt) FROM public.dataset_sl_login\"\n",
    "\n",
    "min_date = pd.read_sql_query(min_sql, conn)\n",
    "max_date = pd.read_sql_query(max_sql, conn)\n",
    "\n",
    "print(min_date.iloc[0])\n",
    "print(max_date.iloc[0])"
   ]
  },
  {
   "cell_type": "code",
   "execution_count": 43,
   "metadata": {},
   "outputs": [],
   "source": [
    "#Let's look at the overall numbers\n",
    "\n",
    "count_sql = \"\"\"\n",
    "SELECT count(uid) as total_login_number,\n",
    "       count(distinct uid) as distinct_user_number,\n",
    "       count(distinct platform) as distinct_platform_number,\n",
    "       count(distinct app_version) as distinct_app_version_number\n",
    "FROM public.dataset_sl_login\n",
    "\"\"\"\n",
    "\n",
    "row_number = pd.read_sql_query(count_sql, conn)"
   ]
  },
  {
   "cell_type": "code",
   "execution_count": 44,
   "metadata": {},
   "outputs": [
    {
     "data": {
      "text/html": [
       "<div>\n",
       "<style scoped>\n",
       "    .dataframe tbody tr th:only-of-type {\n",
       "        vertical-align: middle;\n",
       "    }\n",
       "\n",
       "    .dataframe tbody tr th {\n",
       "        vertical-align: top;\n",
       "    }\n",
       "\n",
       "    .dataframe thead th {\n",
       "        text-align: right;\n",
       "    }\n",
       "</style>\n",
       "<table border=\"1\" class=\"dataframe\">\n",
       "  <thead>\n",
       "    <tr style=\"text-align: right;\">\n",
       "      <th></th>\n",
       "      <th>total_login_number</th>\n",
       "      <th>distinct_user_number</th>\n",
       "      <th>distinct_platform_number</th>\n",
       "      <th>distinct_app_version_number</th>\n",
       "    </tr>\n",
       "  </thead>\n",
       "  <tbody>\n",
       "    <tr>\n",
       "      <th>0</th>\n",
       "      <td>4153398</td>\n",
       "      <td>228269</td>\n",
       "      <td>2</td>\n",
       "      <td>3</td>\n",
       "    </tr>\n",
       "  </tbody>\n",
       "</table>\n",
       "</div>"
      ],
      "text/plain": [
       "   total_login_number  distinct_user_number  distinct_platform_number  distinct_app_version_number\n",
       "0             4153398                228269                         2                            3"
      ]
     },
     "execution_count": 44,
     "metadata": {},
     "output_type": "execute_result"
    }
   ],
   "source": [
    "row_number"
   ]
  },
  {
   "cell_type": "markdown",
   "metadata": {},
   "source": [
    "Now let's try to understance days between installing and first login"
   ]
  },
  {
   "cell_type": "code",
   "execution_count": null,
   "metadata": {},
   "outputs": [],
   "source": []
  },
  {
   "cell_type": "code",
   "execution_count": null,
   "metadata": {},
   "outputs": [],
   "source": []
  },
  {
   "cell_type": "code",
   "execution_count": null,
   "metadata": {},
   "outputs": [],
   "source": []
  }
 ],
 "metadata": {
  "kernelspec": {
   "display_name": "Python 3 (ipykernel)",
   "language": "python",
   "name": "python3"
  },
  "language_info": {
   "codemirror_mode": {
    "name": "ipython",
    "version": 3
   },
   "file_extension": ".py",
   "mimetype": "text/x-python",
   "name": "python",
   "nbconvert_exporter": "python",
   "pygments_lexer": "ipython3",
   "version": "3.9.12"
  },
  "toc": {
   "base_numbering": 1,
   "nav_menu": {},
   "number_sections": true,
   "sideBar": true,
   "skip_h1_title": false,
   "title_cell": "Table of Contents",
   "title_sidebar": "Contents",
   "toc_cell": false,
   "toc_position": {},
   "toc_section_display": true,
   "toc_window_display": false
  },
  "varInspector": {
   "cols": {
    "lenName": 16,
    "lenType": 16,
    "lenVar": 40
   },
   "kernels_config": {
    "python": {
     "delete_cmd_postfix": "",
     "delete_cmd_prefix": "del ",
     "library": "var_list.py",
     "varRefreshCmd": "print(var_dic_list())"
    },
    "r": {
     "delete_cmd_postfix": ") ",
     "delete_cmd_prefix": "rm(",
     "library": "var_list.r",
     "varRefreshCmd": "cat(var_dic_list()) "
    }
   },
   "types_to_exclude": [
    "module",
    "function",
    "builtin_function_or_method",
    "instance",
    "_Feature"
   ],
   "window_display": false
  }
 },
 "nbformat": 4,
 "nbformat_minor": 4
}
